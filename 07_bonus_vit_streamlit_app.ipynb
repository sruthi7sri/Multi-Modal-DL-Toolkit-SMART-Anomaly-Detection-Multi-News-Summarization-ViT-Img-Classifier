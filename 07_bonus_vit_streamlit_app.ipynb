{
  "cells": [
    {
      "cell_type": "markdown",
      "metadata": {
        "id": "iY3FaqAh5DF7"
      },
      "source": [
        "# Vision Transformer for Cats vs Dogs Classification\n",
        "A Streamlit app was built using a pretrained ViT model to classify cat vs dog images in real-time."
      ]
    },
    {
      "cell_type": "code",
      "execution_count": null,
      "metadata": {
        "colab": {
          "base_uri": "https://localhost:8080/"
        },
        "id": "ww7KPBNOoamV",
        "outputId": "53178890-603d-4332-a292-7b62f5f8774a"
      },
      "outputs": [
        {
          "name": "stdout",
          "output_type": "stream",
          "text": [
            "Archive:  cats_dogs.zip\n",
            "  End-of-central-directory signature not found.  Either this file is not\n",
            "  a zipfile, or it constitutes one disk of a multi-part archive.  In the\n",
            "  latter case the central directory and zipfile comment will be found on\n",
            "  the last disk(s) of this archive.\n",
            "unzip:  cannot find zipfile directory in one of cats_dogs.zip or\n",
            "        cats_dogs.zip.zip, and cannot find cats_dogs.zip.ZIP, period.\n"
          ]
        }
      ],
      "source": [
        "!unzip cats_dogs.zip"
      ]
    },
    {
      "cell_type": "code",
      "execution_count": null,
      "metadata": {
        "colab": {
          "base_uri": "https://localhost:8080/"
        },
        "id": "syGvaxGEvvJC",
        "outputId": "2120306d-d067-4e1f-a976-ee44296ad6ef"
      },
      "outputs": [
        {
          "name": "stdout",
          "output_type": "stream",
          "text": [
            "Mounted at /content/drive\n",
            "Using device: cuda\n"
          ]
        }
      ],
      "source": [
        "import torch\n",
        "import torch.nn as nn\n",
        "import torch.optim as optim\n",
        "from torchvision import transforms, datasets, models\n",
        "from torch.utils.data import DataLoader, random_split\n",
        "import matplotlib.pyplot as plt\n",
        "import numpy as np\n",
        "from PIL import Image\n",
        "import os\n",
        "from google.colab import drive\n",
        "drive.mount('/content/drive')\n",
        "\n",
        "\n",
        "device = torch.device(\"cuda\" if torch.cuda.is_available() else \"cpu\")\n",
        "print(\"Using device:\", device)\n"
      ]
    },
    {
      "cell_type": "code",
      "execution_count": null,
      "metadata": {
        "colab": {
          "base_uri": "https://localhost:8080/"
        },
        "id": "kIGfl91BFCCX",
        "outputId": "c82d81db-6797-44a2-e256-6614590b685e"
      },
      "outputs": [
        {
          "name": "stdout",
          "output_type": "stream",
          "text": [
            "/usr/local/lib/python3.11/dist-packages/gdown/__main__.py:140: FutureWarning: Option `--id` was deprecated in version 4.3.1 and will be removed in 5.0. You don't need to pass it anymore to use a file ID.\n",
            "  warnings.warn(\n",
            "Retrieving folder contents\n",
            "Retrieving folder 1C3_8aq2q6bd26i_qn14DV4rVDkiVdkvw Cat\n",
            "Processing file 1K_HyNC-CaTotjno2Cl7ayTI1OAkJJd4w 0.jpg\n",
            "Processing file 1TTWXmyxT-W_uyxj03iXlqM1YmjT1CGk6 1.jpg\n",
            "Processing file 1SKTCANW9XnhSGG7alZOznUAJbAmIwADI 2.jpg\n",
            "Processing file 1G9jsgxg301B3v59zvIqDVc-jnAB3LPB4 3.jpg\n",
            "Processing file 1gop7sqszOMP5G4NQRQOzgJHaIyslNAmx 4.jpg\n",
            "Processing file 1mwH9r--4b9gOSof7fA29gWdeMFj1yhK9 5.jpg\n",
            "Processing file 19mXrqYGo7IzEs_BSMwjfWYBnEqA7cmKf 6.jpg\n",
            "Processing file 16DPd0k8Sp9a7yJfsHgrFvrT9SXa-Ghsc 7.jpg\n",
            "Processing file 1gdcaKruvfI-gtV5jKjJO4UdRyLtD3lpl 8.jpg\n",
            "Processing file 14eSyPD2tqjFZDw67R8u2bOlmvylLjqa- 9.jpg\n",
            "Processing file 1TXQR-Vui1JTKx1uf0aePjh9hYXCiws1V 10.jpg\n",
            "Processing file 1hEC2HnX-kaq5H7TN65UzGnXKf-gf3u_L 11.jpg\n",
            "Processing file 17AEIdl5ZqiSy5BXMNtLV8KK7lylEEQSV 12.jpg\n",
            "Processing file 1j9spIxy27UqT4HGVtimLvhogLF0bA0cX 13.jpg\n",
            "Processing file 1ctBYNWybIXPUADVTPeBb0NihfaBE3HLS 14.jpg\n",
            "Processing file 14Zhkh2Rb7p8uIsY3w0jOm0ASDT3nb5Hu 15.jpg\n",
            "Processing file 1o75-SZ4BVdIl5685-eA9oiwhQq7bxaA6 16.jpg\n",
            "Processing file 1x86Ruo-_2kl65obwp1sU8m8Bd--zqMgz 17.jpg\n",
            "Processing file 15OJGbc14VbZFIGtcb6InwTyXscwHqQUd 18.jpg\n",
            "Processing file 1tAiiUzIVV8c7DxXx5eSojZTDyFV8UBcm 19.jpg\n",
            "Processing file 1WrmywrWuWbJh3GylX_CjrC2UZDlgPaSc 20.jpg\n",
            "Processing file 1xKuRUhwh9IcSQ_LB_SkG2o7jEnsZNM16 21.jpg\n",
            "Processing file 10jvCjGq2U2tN0fWym_McW6aNkJyUoyLw 22.jpg\n",
            "Processing file 1ZK2GsVvOAyJ23UONQXot5heQI-q8ipmY 23.jpg\n",
            "Processing file 1ZNePP56Pt5EKwQ-xFsCYAVe-3ZgG5Ef7 24.jpg\n",
            "Processing file 125C9MEk8dIGInCCkTwRWuP8EsQO36DaR 25.jpg\n",
            "Processing file 1hwSJWelmrFV7Z10iSehnIkog8ocZyG8H 26.jpg\n",
            "Processing file 15OkFuDvN8MrpoihYqqYyRf9EM4ee65AL 27.jpg\n",
            "Processing file 1kndaETTe5WO6ujeWfPET_MXiaoSrDXJR 28.jpg\n",
            "Processing file 1Ag52JEW4W0nhKaMhn6HzXqqFWTddeAiX 29.jpg\n",
            "Processing file 1NdwkICvtmva2frqyHmTTWmE9_6hV8wR7 30.jpg\n",
            "Processing file 1y2qJ8flgsg1G5sQgx4IO99fIecA81pPy 31.jpg\n",
            "Processing file 1v6wuAznHtDcH6Dd9MIoNMSt8N3j01WRL 32.jpg\n",
            "Processing file 16ShOyXCZ8QJliuuZsopXC_zb5XIfhQ0N 33.jpg\n",
            "Processing file 1D7XuF2ywOCmGYlMUNEEESj4OP0qgTdjL 34.jpg\n",
            "Processing file 1KsK9bWnjScupGwBHKITCAe6WU9zvSP6g 35.jpg\n",
            "Processing file 1qNTR8m2aKXPUyIUymabE25WT8rv02v4L 36.jpg\n",
            "Processing file 1CdatTB5N_sD_8yluFpVgK6RABjdJ0x6U 37.jpg\n",
            "Processing file 1EujNJfB5bH5diNHflDp8qTqDeOdnuWAU 38.jpg\n",
            "Processing file 1if8i9R3qDUNMc29uJ9DzLpWL3whw6YRg 39.jpg\n",
            "Processing file 1ukHD1hcQ6pTJ553zi2LLSZlluo6Xbl4r 40.jpg\n",
            "Processing file 1WallJM5Tqm5JeOK736YS1TeNEOwSBMJ5 41.jpg\n",
            "Processing file 1N_l7R-92ogWORrhNKngl_4V1Stq9C1rb 42.jpg\n",
            "Processing file 1f9k6RvPLwoKcctj89V7HpYQTQrjVB0oz 43.jpg\n",
            "Processing file 1lpyUfJU_Y_OM2LplmYi-5YZ2wO0ZB3RT 44.jpg\n",
            "Processing file 1W-q6xA1nQ8GZSeCLsp3J3ynE43QdwDMU 45.jpg\n",
            "Processing file 1tfOZRbQzx3BWiRitEeBeh6sLaq3-caDV 46.jpg\n",
            "Processing file 1QYn5X-7LRfH3UmcHHoKkURi7yWg7CCp- 47.jpg\n",
            "Processing file 1SUwcUFqkWoFKtX3Z7w4_K-XJh98WAXsT 48.jpg\n",
            "Processing file 11mJ6mqPbfmGGF8uI9mp-5sCa2s5AhDnV 49.jpg\n",
            "Failed to retrieve folder contents:\n",
            "\n",
            "\tThe gdrive folder with url: https://drive.google.com/drive/folders/1C3\n",
            "\t_8aq2q6bd26i_qn14DV4rVDkiVdkvw?hl=en has more than 50 files, gdrive\n",
            "\tcan't download more than this limit.\n",
            "\n",
            "You can use `--remaining-ok` option to ignore this error.\n"
          ]
        }
      ],
      "source": [
        "!pip install -q gdown\n",
        "!gdown --folder --id 1mUWIe49zVaWN9E0M37_is8Pbs-0OwLlA -O /content/cats_dogs_dataset"
      ]
    },
    {
      "cell_type": "code",
      "execution_count": null,
      "metadata": {
        "id": "ylEgex_evvoV"
      },
      "outputs": [],
      "source": [
        "transform = transforms.Compose([\n",
        "    transforms.Resize(256),\n",
        "    transforms.CenterCrop(224),\n",
        "    transforms.ToTensor(),\n",
        "    transforms.Normalize(mean=[0.485, 0.456, 0.406],\n",
        "                         std=[0.229, 0.224, 0.225])\n",
        "])\n",
        "dataset_path = \"/content/drive/MyDrive/DL_A2_Datasets/Bonus/PetImages\""
      ]
    },
    {
      "cell_type": "code",
      "execution_count": null,
      "metadata": {
        "colab": {
          "base_uri": "https://localhost:8080/"
        },
        "id": "rM_QEONTE6mv",
        "outputId": "da5848e4-e74a-49f6-a3c8-510b83b8d714"
      },
      "outputs": [
        {
          "name": "stdout",
          "output_type": "stream",
          "text": [
            "Classes: ['Cat', 'Dog']\n",
            "Dataset sizes => Train: 18075, Val: 3873, Test: 3874\n"
          ]
        }
      ],
      "source": [
        "from PIL import ImageFile, UnidentifiedImageError\n",
        "ImageFile.LOAD_TRUNCATED_IMAGES = True\n",
        "\n",
        "def is_valid_image(img_path):\n",
        "    \"\"\"\n",
        "    Checks if an image file is valid and can be opened by PIL.\n",
        "    \"\"\"\n",
        "    try:\n",
        "        img = Image.open(img_path)\n",
        "        img.verify()\n",
        "        return True\n",
        "    except (UnidentifiedImageError, OSError, ValueError, TypeError) as e:\n",
        "        print(f\"Skipping invalid image: {img_path} due to error: {e}\")\n",
        "        return False\n",
        "\n",
        "class ImageFolderWithFiltering(datasets.ImageFolder):\n",
        "    \"\"\"\n",
        "    Custom ImageFolder class that filters out invalid images.\n",
        "    \"\"\"\n",
        "    def __getitem__(self, index):\n",
        "        path, target = self.samples[index]\n",
        "        if is_valid_image(path):\n",
        "            sample = self.loader(path)\n",
        "            if self.transform is not None:\n",
        "                sample = self.transform(sample)\n",
        "            if self.target_transform is not None:\n",
        "                target = self.target_transform(target)\n",
        "            return sample, target\n",
        "        else:\n",
        "            return torch.zeros(3, 224, 224), -1\n",
        "\n",
        "full_dataset = ImageFolderWithFiltering(root=dataset_path, transform=transform)\n",
        "class_names = full_dataset.classes\n",
        "print(\"Classes:\", class_names)\n",
        "\n",
        "dataset_size = len(full_dataset)\n",
        "train_size = int(0.7 * dataset_size)\n",
        "val_size = int(0.15 * dataset_size)\n",
        "test_size = dataset_size - train_size - val_size\n",
        "train_dataset, val_dataset, test_dataset = random_split(full_dataset, [train_size, val_size, test_size])\n",
        "print(f\"Dataset sizes => Train: {train_size}, Val: {val_size}, Test: {test_size}\")\n",
        "\n",
        "batch_size = 32\n",
        "train_loader = DataLoader(train_dataset, batch_size=batch_size, shuffle=True, num_workers=4)\n",
        "val_loader = DataLoader(val_dataset, batch_size=batch_size, shuffle=False, num_workers=4)\n",
        "test_loader = DataLoader(test_dataset, batch_size=batch_size, shuffle=False, num_workers=4)"
      ]
    },
    {
      "cell_type": "code",
      "execution_count": null,
      "metadata": {
        "colab": {
          "base_uri": "https://localhost:8080/"
        },
        "id": "izKO11Y8E773",
        "outputId": "dae4ec52-f436-4bb8-b63d-4995212db7d6"
      },
      "outputs": [
        {
          "name": "stderr",
          "output_type": "stream",
          "text": [
            "/usr/local/lib/python3.11/dist-packages/torchvision/models/_utils.py:208: UserWarning: The parameter 'pretrained' is deprecated since 0.13 and may be removed in the future, please use 'weights' instead.\n",
            "  warnings.warn(\n",
            "/usr/local/lib/python3.11/dist-packages/torchvision/models/_utils.py:223: UserWarning: Arguments other than a weight enum or `None` for 'weights' are deprecated since 0.13 and may be removed in the future. The current behavior is equivalent to passing `weights=ViT_B_16_Weights.IMAGENET1K_V1`. You can also use `weights=ViT_B_16_Weights.DEFAULT` to get the most up-to-date weights.\n",
            "  warnings.warn(msg)\n",
            "Downloading: \"https://download.pytorch.org/models/vit_b_16-c867db91.pth\" to /root/.cache/torch/hub/checkpoints/vit_b_16-c867db91.pth\n",
            "100%|██████████| 330M/330M [00:01<00:00, 208MB/s]\n"
          ]
        },
        {
          "name": "stdout",
          "output_type": "stream",
          "text": [
            "VisionTransformer(\n",
            "  (conv_proj): Conv2d(3, 768, kernel_size=(16, 16), stride=(16, 16))\n",
            "  (encoder): Encoder(\n",
            "    (dropout): Dropout(p=0.0, inplace=False)\n",
            "    (layers): Sequential(\n",
            "      (encoder_layer_0): EncoderBlock(\n",
            "        (ln_1): LayerNorm((768,), eps=1e-06, elementwise_affine=True)\n",
            "        (self_attention): MultiheadAttention(\n",
            "          (out_proj): NonDynamicallyQuantizableLinear(in_features=768, out_features=768, bias=True)\n",
            "        )\n",
            "        (dropout): Dropout(p=0.0, inplace=False)\n",
            "        (ln_2): LayerNorm((768,), eps=1e-06, elementwise_affine=True)\n",
            "        (mlp): MLPBlock(\n",
            "          (0): Linear(in_features=768, out_features=3072, bias=True)\n",
            "          (1): GELU(approximate='none')\n",
            "          (2): Dropout(p=0.0, inplace=False)\n",
            "          (3): Linear(in_features=3072, out_features=768, bias=True)\n",
            "          (4): Dropout(p=0.0, inplace=False)\n",
            "        )\n",
            "      )\n",
            "      (encoder_layer_1): EncoderBlock(\n",
            "        (ln_1): LayerNorm((768,), eps=1e-06, elementwise_affine=True)\n",
            "        (self_attention): MultiheadAttention(\n",
            "          (out_proj): NonDynamicallyQuantizableLinear(in_features=768, out_features=768, bias=True)\n",
            "        )\n",
            "        (dropout): Dropout(p=0.0, inplace=False)\n",
            "        (ln_2): LayerNorm((768,), eps=1e-06, elementwise_affine=True)\n",
            "        (mlp): MLPBlock(\n",
            "          (0): Linear(in_features=768, out_features=3072, bias=True)\n",
            "          (1): GELU(approximate='none')\n",
            "          (2): Dropout(p=0.0, inplace=False)\n",
            "          (3): Linear(in_features=3072, out_features=768, bias=True)\n",
            "          (4): Dropout(p=0.0, inplace=False)\n",
            "        )\n",
            "      )\n",
            "      (encoder_layer_2): EncoderBlock(\n",
            "        (ln_1): LayerNorm((768,), eps=1e-06, elementwise_affine=True)\n",
            "        (self_attention): MultiheadAttention(\n",
            "          (out_proj): NonDynamicallyQuantizableLinear(in_features=768, out_features=768, bias=True)\n",
            "        )\n",
            "        (dropout): Dropout(p=0.0, inplace=False)\n",
            "        (ln_2): LayerNorm((768,), eps=1e-06, elementwise_affine=True)\n",
            "        (mlp): MLPBlock(\n",
            "          (0): Linear(in_features=768, out_features=3072, bias=True)\n",
            "          (1): GELU(approximate='none')\n",
            "          (2): Dropout(p=0.0, inplace=False)\n",
            "          (3): Linear(in_features=3072, out_features=768, bias=True)\n",
            "          (4): Dropout(p=0.0, inplace=False)\n",
            "        )\n",
            "      )\n",
            "      (encoder_layer_3): EncoderBlock(\n",
            "        (ln_1): LayerNorm((768,), eps=1e-06, elementwise_affine=True)\n",
            "        (self_attention): MultiheadAttention(\n",
            "          (out_proj): NonDynamicallyQuantizableLinear(in_features=768, out_features=768, bias=True)\n",
            "        )\n",
            "        (dropout): Dropout(p=0.0, inplace=False)\n",
            "        (ln_2): LayerNorm((768,), eps=1e-06, elementwise_affine=True)\n",
            "        (mlp): MLPBlock(\n",
            "          (0): Linear(in_features=768, out_features=3072, bias=True)\n",
            "          (1): GELU(approximate='none')\n",
            "          (2): Dropout(p=0.0, inplace=False)\n",
            "          (3): Linear(in_features=3072, out_features=768, bias=True)\n",
            "          (4): Dropout(p=0.0, inplace=False)\n",
            "        )\n",
            "      )\n",
            "      (encoder_layer_4): EncoderBlock(\n",
            "        (ln_1): LayerNorm((768,), eps=1e-06, elementwise_affine=True)\n",
            "        (self_attention): MultiheadAttention(\n",
            "          (out_proj): NonDynamicallyQuantizableLinear(in_features=768, out_features=768, bias=True)\n",
            "        )\n",
            "        (dropout): Dropout(p=0.0, inplace=False)\n",
            "        (ln_2): LayerNorm((768,), eps=1e-06, elementwise_affine=True)\n",
            "        (mlp): MLPBlock(\n",
            "          (0): Linear(in_features=768, out_features=3072, bias=True)\n",
            "          (1): GELU(approximate='none')\n",
            "          (2): Dropout(p=0.0, inplace=False)\n",
            "          (3): Linear(in_features=3072, out_features=768, bias=True)\n",
            "          (4): Dropout(p=0.0, inplace=False)\n",
            "        )\n",
            "      )\n",
            "      (encoder_layer_5): EncoderBlock(\n",
            "        (ln_1): LayerNorm((768,), eps=1e-06, elementwise_affine=True)\n",
            "        (self_attention): MultiheadAttention(\n",
            "          (out_proj): NonDynamicallyQuantizableLinear(in_features=768, out_features=768, bias=True)\n",
            "        )\n",
            "        (dropout): Dropout(p=0.0, inplace=False)\n",
            "        (ln_2): LayerNorm((768,), eps=1e-06, elementwise_affine=True)\n",
            "        (mlp): MLPBlock(\n",
            "          (0): Linear(in_features=768, out_features=3072, bias=True)\n",
            "          (1): GELU(approximate='none')\n",
            "          (2): Dropout(p=0.0, inplace=False)\n",
            "          (3): Linear(in_features=3072, out_features=768, bias=True)\n",
            "          (4): Dropout(p=0.0, inplace=False)\n",
            "        )\n",
            "      )\n",
            "      (encoder_layer_6): EncoderBlock(\n",
            "        (ln_1): LayerNorm((768,), eps=1e-06, elementwise_affine=True)\n",
            "        (self_attention): MultiheadAttention(\n",
            "          (out_proj): NonDynamicallyQuantizableLinear(in_features=768, out_features=768, bias=True)\n",
            "        )\n",
            "        (dropout): Dropout(p=0.0, inplace=False)\n",
            "        (ln_2): LayerNorm((768,), eps=1e-06, elementwise_affine=True)\n",
            "        (mlp): MLPBlock(\n",
            "          (0): Linear(in_features=768, out_features=3072, bias=True)\n",
            "          (1): GELU(approximate='none')\n",
            "          (2): Dropout(p=0.0, inplace=False)\n",
            "          (3): Linear(in_features=3072, out_features=768, bias=True)\n",
            "          (4): Dropout(p=0.0, inplace=False)\n",
            "        )\n",
            "      )\n",
            "      (encoder_layer_7): EncoderBlock(\n",
            "        (ln_1): LayerNorm((768,), eps=1e-06, elementwise_affine=True)\n",
            "        (self_attention): MultiheadAttention(\n",
            "          (out_proj): NonDynamicallyQuantizableLinear(in_features=768, out_features=768, bias=True)\n",
            "        )\n",
            "        (dropout): Dropout(p=0.0, inplace=False)\n",
            "        (ln_2): LayerNorm((768,), eps=1e-06, elementwise_affine=True)\n",
            "        (mlp): MLPBlock(\n",
            "          (0): Linear(in_features=768, out_features=3072, bias=True)\n",
            "          (1): GELU(approximate='none')\n",
            "          (2): Dropout(p=0.0, inplace=False)\n",
            "          (3): Linear(in_features=3072, out_features=768, bias=True)\n",
            "          (4): Dropout(p=0.0, inplace=False)\n",
            "        )\n",
            "      )\n",
            "      (encoder_layer_8): EncoderBlock(\n",
            "        (ln_1): LayerNorm((768,), eps=1e-06, elementwise_affine=True)\n",
            "        (self_attention): MultiheadAttention(\n",
            "          (out_proj): NonDynamicallyQuantizableLinear(in_features=768, out_features=768, bias=True)\n",
            "        )\n",
            "        (dropout): Dropout(p=0.0, inplace=False)\n",
            "        (ln_2): LayerNorm((768,), eps=1e-06, elementwise_affine=True)\n",
            "        (mlp): MLPBlock(\n",
            "          (0): Linear(in_features=768, out_features=3072, bias=True)\n",
            "          (1): GELU(approximate='none')\n",
            "          (2): Dropout(p=0.0, inplace=False)\n",
            "          (3): Linear(in_features=3072, out_features=768, bias=True)\n",
            "          (4): Dropout(p=0.0, inplace=False)\n",
            "        )\n",
            "      )\n",
            "      (encoder_layer_9): EncoderBlock(\n",
            "        (ln_1): LayerNorm((768,), eps=1e-06, elementwise_affine=True)\n",
            "        (self_attention): MultiheadAttention(\n",
            "          (out_proj): NonDynamicallyQuantizableLinear(in_features=768, out_features=768, bias=True)\n",
            "        )\n",
            "        (dropout): Dropout(p=0.0, inplace=False)\n",
            "        (ln_2): LayerNorm((768,), eps=1e-06, elementwise_affine=True)\n",
            "        (mlp): MLPBlock(\n",
            "          (0): Linear(in_features=768, out_features=3072, bias=True)\n",
            "          (1): GELU(approximate='none')\n",
            "          (2): Dropout(p=0.0, inplace=False)\n",
            "          (3): Linear(in_features=3072, out_features=768, bias=True)\n",
            "          (4): Dropout(p=0.0, inplace=False)\n",
            "        )\n",
            "      )\n",
            "      (encoder_layer_10): EncoderBlock(\n",
            "        (ln_1): LayerNorm((768,), eps=1e-06, elementwise_affine=True)\n",
            "        (self_attention): MultiheadAttention(\n",
            "          (out_proj): NonDynamicallyQuantizableLinear(in_features=768, out_features=768, bias=True)\n",
            "        )\n",
            "        (dropout): Dropout(p=0.0, inplace=False)\n",
            "        (ln_2): LayerNorm((768,), eps=1e-06, elementwise_affine=True)\n",
            "        (mlp): MLPBlock(\n",
            "          (0): Linear(in_features=768, out_features=3072, bias=True)\n",
            "          (1): GELU(approximate='none')\n",
            "          (2): Dropout(p=0.0, inplace=False)\n",
            "          (3): Linear(in_features=3072, out_features=768, bias=True)\n",
            "          (4): Dropout(p=0.0, inplace=False)\n",
            "        )\n",
            "      )\n",
            "      (encoder_layer_11): EncoderBlock(\n",
            "        (ln_1): LayerNorm((768,), eps=1e-06, elementwise_affine=True)\n",
            "        (self_attention): MultiheadAttention(\n",
            "          (out_proj): NonDynamicallyQuantizableLinear(in_features=768, out_features=768, bias=True)\n",
            "        )\n",
            "        (dropout): Dropout(p=0.0, inplace=False)\n",
            "        (ln_2): LayerNorm((768,), eps=1e-06, elementwise_affine=True)\n",
            "        (mlp): MLPBlock(\n",
            "          (0): Linear(in_features=768, out_features=3072, bias=True)\n",
            "          (1): GELU(approximate='none')\n",
            "          (2): Dropout(p=0.0, inplace=False)\n",
            "          (3): Linear(in_features=3072, out_features=768, bias=True)\n",
            "          (4): Dropout(p=0.0, inplace=False)\n",
            "        )\n",
            "      )\n",
            "    )\n",
            "    (ln): LayerNorm((768,), eps=1e-06, elementwise_affine=True)\n",
            "  )\n",
            "  (heads): Sequential(\n",
            "    (head): Linear(in_features=768, out_features=2, bias=True)\n",
            "  )\n",
            ")\n"
          ]
        }
      ],
      "source": [
        "model = models.vit_b_16(pretrained=True)\n",
        "\n",
        "num_features = model.heads.head.in_features\n",
        "model.heads.head = nn.Linear(num_features, 2)\n",
        "model = model.to(device)\n",
        "print(model)"
      ]
    },
    {
      "cell_type": "code",
      "execution_count": null,
      "metadata": {
        "colab": {
          "base_uri": "https://localhost:8080/"
        },
        "id": "moMPWFtBFLg-",
        "outputId": "6f759e41-22c7-42cd-ceac-45c3516bdc97"
      },
      "outputs": [
        {
          "name": "stderr",
          "output_type": "stream",
          "text": [
            "/usr/local/lib/python3.11/dist-packages/PIL/TiffImagePlugin.py:949: UserWarning: Truncated File Read\n",
            "  warnings.warn(str(msg))\n"
          ]
        },
        {
          "name": "stdout",
          "output_type": "stream",
          "text": [
            "Skipping invalid image: /content/drive/MyDrive/DL_A2_Datasets/Bonus/PetImages/Cat/666.jpg due to error: cannot identify image file '/content/drive/MyDrive/DL_A2_Datasets/Bonus/PetImages/Cat/666.jpg'\n",
            "Skipping invalid image: /content/drive/MyDrive/DL_A2_Datasets/Bonus/PetImages/Dog/11702.jpg due to error: cannot identify image file '/content/drive/MyDrive/DL_A2_Datasets/Bonus/PetImages/Dog/11702.jpg'\n",
            "Epoch 1/10:\n",
            "  Train Loss: 0.4196 | Train Acc: 0.7987\n",
            "  Val Loss: 0.3678 | Val Acc: 0.8335\n"
          ]
        },
        {
          "name": "stderr",
          "output_type": "stream",
          "text": [
            "/usr/local/lib/python3.11/dist-packages/PIL/TiffImagePlugin.py:949: UserWarning: Truncated File Read\n",
            "  warnings.warn(str(msg))\n"
          ]
        },
        {
          "name": "stdout",
          "output_type": "stream",
          "text": [
            "Skipping invalid image: /content/drive/MyDrive/DL_A2_Datasets/Bonus/PetImages/Dog/11702.jpg due to error: cannot identify image file '/content/drive/MyDrive/DL_A2_Datasets/Bonus/PetImages/Dog/11702.jpg'\n",
            "Skipping invalid image: /content/drive/MyDrive/DL_A2_Datasets/Bonus/PetImages/Cat/666.jpg due to error: cannot identify image file '/content/drive/MyDrive/DL_A2_Datasets/Bonus/PetImages/Cat/666.jpg'\n",
            "Epoch 2/10:\n",
            "  Train Loss: 0.2970 | Train Acc: 0.8718\n",
            "  Val Loss: 0.2391 | Val Acc: 0.9027\n",
            "Skipping invalid image: /content/drive/MyDrive/DL_A2_Datasets/Bonus/PetImages/Dog/11702.jpg due to error: cannot identify image file '/content/drive/MyDrive/DL_A2_Datasets/Bonus/PetImages/Dog/11702.jpg'\n"
          ]
        },
        {
          "name": "stderr",
          "output_type": "stream",
          "text": [
            "/usr/local/lib/python3.11/dist-packages/PIL/TiffImagePlugin.py:949: UserWarning: Truncated File Read\n",
            "  warnings.warn(str(msg))\n"
          ]
        },
        {
          "name": "stdout",
          "output_type": "stream",
          "text": [
            "Skipping invalid image: /content/drive/MyDrive/DL_A2_Datasets/Bonus/PetImages/Cat/666.jpg due to error: cannot identify image file '/content/drive/MyDrive/DL_A2_Datasets/Bonus/PetImages/Cat/666.jpg'\n",
            "Epoch 3/10:\n",
            "  Train Loss: 0.2327 | Train Acc: 0.9010\n",
            "  Val Loss: 0.2793 | Val Acc: 0.8766\n"
          ]
        },
        {
          "name": "stderr",
          "output_type": "stream",
          "text": [
            "/usr/local/lib/python3.11/dist-packages/PIL/TiffImagePlugin.py:949: UserWarning: Truncated File Read\n",
            "  warnings.warn(str(msg))\n"
          ]
        },
        {
          "name": "stdout",
          "output_type": "stream",
          "text": [
            "Skipping invalid image: /content/drive/MyDrive/DL_A2_Datasets/Bonus/PetImages/Dog/11702.jpg due to error: cannot identify image file '/content/drive/MyDrive/DL_A2_Datasets/Bonus/PetImages/Dog/11702.jpg'\n",
            "Skipping invalid image: /content/drive/MyDrive/DL_A2_Datasets/Bonus/PetImages/Cat/666.jpg due to error: cannot identify image file '/content/drive/MyDrive/DL_A2_Datasets/Bonus/PetImages/Cat/666.jpg'\n",
            "Epoch 4/10:\n",
            "  Train Loss: 0.1997 | Train Acc: 0.9149\n",
            "  Val Loss: 0.2292 | Val Acc: 0.9065\n"
          ]
        },
        {
          "name": "stderr",
          "output_type": "stream",
          "text": [
            "/usr/local/lib/python3.11/dist-packages/PIL/TiffImagePlugin.py:949: UserWarning: Truncated File Read\n",
            "  warnings.warn(str(msg))\n"
          ]
        },
        {
          "name": "stdout",
          "output_type": "stream",
          "text": [
            "Skipping invalid image: /content/drive/MyDrive/DL_A2_Datasets/Bonus/PetImages/Dog/11702.jpg due to error: cannot identify image file '/content/drive/MyDrive/DL_A2_Datasets/Bonus/PetImages/Dog/11702.jpg'\n",
            "Skipping invalid image: /content/drive/MyDrive/DL_A2_Datasets/Bonus/PetImages/Cat/666.jpg due to error: cannot identify image file '/content/drive/MyDrive/DL_A2_Datasets/Bonus/PetImages/Cat/666.jpg'\n",
            "Epoch 5/10:\n",
            "  Train Loss: 0.1779 | Train Acc: 0.9271\n",
            "  Val Loss: 0.2124 | Val Acc: 0.9081\n"
          ]
        },
        {
          "name": "stderr",
          "output_type": "stream",
          "text": [
            "/usr/local/lib/python3.11/dist-packages/PIL/TiffImagePlugin.py:949: UserWarning: Truncated File Read\n",
            "  warnings.warn(str(msg))\n"
          ]
        },
        {
          "name": "stdout",
          "output_type": "stream",
          "text": [
            "Skipping invalid image: /content/drive/MyDrive/DL_A2_Datasets/Bonus/PetImages/Dog/11702.jpg due to error: cannot identify image file '/content/drive/MyDrive/DL_A2_Datasets/Bonus/PetImages/Dog/11702.jpg'\n",
            "Skipping invalid image: /content/drive/MyDrive/DL_A2_Datasets/Bonus/PetImages/Cat/666.jpg due to error: cannot identify image file '/content/drive/MyDrive/DL_A2_Datasets/Bonus/PetImages/Cat/666.jpg'\n",
            "Epoch 6/10:\n",
            "  Train Loss: 0.1522 | Train Acc: 0.9398\n",
            "  Val Loss: 0.2265 | Val Acc: 0.9009\n",
            "Skipping invalid image: /content/drive/MyDrive/DL_A2_Datasets/Bonus/PetImages/Dog/11702.jpg due to error: cannot identify image file '/content/drive/MyDrive/DL_A2_Datasets/Bonus/PetImages/Dog/11702.jpg'\n"
          ]
        },
        {
          "name": "stderr",
          "output_type": "stream",
          "text": [
            "/usr/local/lib/python3.11/dist-packages/PIL/TiffImagePlugin.py:949: UserWarning: Truncated File Read\n",
            "  warnings.warn(str(msg))\n"
          ]
        },
        {
          "name": "stdout",
          "output_type": "stream",
          "text": [
            "Skipping invalid image: /content/drive/MyDrive/DL_A2_Datasets/Bonus/PetImages/Cat/666.jpg due to error: cannot identify image file '/content/drive/MyDrive/DL_A2_Datasets/Bonus/PetImages/Cat/666.jpg'\n",
            "Epoch 7/10:\n",
            "  Train Loss: 0.1432 | Train Acc: 0.9411\n",
            "  Val Loss: 0.2350 | Val Acc: 0.9058\n",
            "Skipping invalid image: /content/drive/MyDrive/DL_A2_Datasets/Bonus/PetImages/Dog/11702.jpg due to error: cannot identify image file '/content/drive/MyDrive/DL_A2_Datasets/Bonus/PetImages/Dog/11702.jpg'\n",
            "Skipping invalid image: /content/drive/MyDrive/DL_A2_Datasets/Bonus/PetImages/Cat/666.jpg due to error: cannot identify image file '/content/drive/MyDrive/DL_A2_Datasets/Bonus/PetImages/Cat/666.jpg'\n"
          ]
        },
        {
          "name": "stderr",
          "output_type": "stream",
          "text": [
            "/usr/local/lib/python3.11/dist-packages/PIL/TiffImagePlugin.py:949: UserWarning: Truncated File Read\n",
            "  warnings.warn(str(msg))\n"
          ]
        },
        {
          "name": "stdout",
          "output_type": "stream",
          "text": [
            "Epoch 8/10:\n",
            "  Train Loss: 0.1269 | Train Acc: 0.9499\n",
            "  Val Loss: 0.2692 | Val Acc: 0.8792\n"
          ]
        },
        {
          "name": "stderr",
          "output_type": "stream",
          "text": [
            "/usr/local/lib/python3.11/dist-packages/PIL/TiffImagePlugin.py:949: UserWarning: Truncated File Read\n",
            "  warnings.warn(str(msg))\n"
          ]
        },
        {
          "name": "stdout",
          "output_type": "stream",
          "text": [
            "Skipping invalid image: /content/drive/MyDrive/DL_A2_Datasets/Bonus/PetImages/Dog/11702.jpg due to error: cannot identify image file '/content/drive/MyDrive/DL_A2_Datasets/Bonus/PetImages/Dog/11702.jpg'\n",
            "Skipping invalid image: /content/drive/MyDrive/DL_A2_Datasets/Bonus/PetImages/Cat/666.jpg due to error: cannot identify image file '/content/drive/MyDrive/DL_A2_Datasets/Bonus/PetImages/Cat/666.jpg'\n",
            "Epoch 9/10:\n",
            "  Train Loss: 0.1019 | Train Acc: 0.9604\n",
            "  Val Loss: 0.2684 | Val Acc: 0.8908\n",
            "Skipping invalid image: /content/drive/MyDrive/DL_A2_Datasets/Bonus/PetImages/Cat/666.jpg due to error: cannot identify image file '/content/drive/MyDrive/DL_A2_Datasets/Bonus/PetImages/Cat/666.jpg'\n",
            "Skipping invalid image: /content/drive/MyDrive/DL_A2_Datasets/Bonus/PetImages/Dog/11702.jpg due to error: cannot identify image file '/content/drive/MyDrive/DL_A2_Datasets/Bonus/PetImages/Dog/11702.jpg'\n"
          ]
        },
        {
          "name": "stderr",
          "output_type": "stream",
          "text": [
            "/usr/local/lib/python3.11/dist-packages/PIL/TiffImagePlugin.py:949: UserWarning: Truncated File Read\n",
            "  warnings.warn(str(msg))\n"
          ]
        },
        {
          "name": "stdout",
          "output_type": "stream",
          "text": [
            "Epoch 10/10:\n",
            "  Train Loss: 0.1003 | Train Acc: 0.9609\n",
            "  Val Loss: 0.2427 | Val Acc: 0.9091\n"
          ]
        }
      ],
      "source": [
        "criterion = nn.CrossEntropyLoss()\n",
        "optimizer = optim.Adam(model.parameters(), lr=3e-4)\n",
        "num_epochs = 10\n",
        "best_val_acc = 0.0\n",
        "\n",
        "train_losses, val_losses = [], []\n",
        "train_accs, val_accs = [], []\n",
        "\n",
        "for epoch in range(num_epochs):\n",
        "    model.train()\n",
        "    running_loss = 0.0\n",
        "    running_corrects = 0\n",
        "\n",
        "    for inputs, labels in train_loader:\n",
        "      valid_indices = labels != -1\n",
        "      inputs, labels = inputs[valid_indices].to(device), labels[valid_indices].to(device)\n",
        "\n",
        "\n",
        "      optimizer.zero_grad()\n",
        "      outputs = model(inputs)\n",
        "      loss = criterion(outputs, labels)\n",
        "      loss.backward()\n",
        "      optimizer.step()\n",
        "\n",
        "      running_loss += loss.item() * inputs.size(0)\n",
        "      _, preds = torch.max(outputs, 1)\n",
        "      running_corrects += torch.sum(preds == labels.data)\n",
        "\n",
        "    epoch_loss = running_loss / train_size\n",
        "    epoch_acc = running_corrects.double() / train_size\n",
        "    train_losses.append(epoch_loss)\n",
        "    train_accs.append(epoch_acc.item())\n",
        "\n",
        "    model.eval()\n",
        "    val_running_loss = 0.0\n",
        "    val_running_corrects = 0\n",
        "    with torch.no_grad():\n",
        "        for inputs, labels in val_loader:\n",
        "            inputs, labels = inputs.to(device), labels.to(device)\n",
        "            outputs = model(inputs)\n",
        "            loss = criterion(outputs, labels)\n",
        "            val_running_loss += loss.item() * inputs.size(0)\n",
        "            _, preds = torch.max(outputs, 1)\n",
        "            val_running_corrects += torch.sum(preds == labels.data)\n",
        "\n",
        "    val_loss = val_running_loss / val_size\n",
        "    val_acc = val_running_corrects.double() / val_size\n",
        "    val_losses.append(val_loss)\n",
        "    val_accs.append(val_acc.item())\n",
        "\n",
        "    print(f\"Epoch {epoch+1}/{num_epochs}:\")\n",
        "    print(f\"  Train Loss: {epoch_loss:.4f} | Train Acc: {epoch_acc:.4f}\")\n",
        "    print(f\"  Val Loss: {val_loss:.4f} | Val Acc: {val_acc:.4f}\")\n",
        "\n",
        "    if val_acc > best_val_acc:\n",
        "        best_val_acc = val_acc\n",
        "        torch.save(model.state_dict(), \"/content/drive/MyDrive/DL_A2_Datasets/Bonus/best_vit_model.pth\")\n"
      ]
    },
    {
      "cell_type": "code",
      "execution_count": null,
      "metadata": {
        "colab": {
          "base_uri": "https://localhost:8080/"
        },
        "id": "ZpbDQvpBFOaj",
        "outputId": "cab67bce-5a32-44c3-e662-589c2d91d096"
      },
      "outputs": [
        {
          "name": "stdout",
          "output_type": "stream",
          "text": [
            "\n",
            "Test Accuracy: 0.9040\n"
          ]
        },
        {
          "data": {
            "image/png": "[encoded data removed]",
            "text/plain": [
              "<Figure size 1200x500 with 2 Axes>"
            ]
          },
          "metadata": {},
          "output_type": "display_data"
        }
      ],
      "source": [
        "model.load_state_dict(torch.load(\"/content/drive/MyDrive/DL_A2_Datasets/Bonus/best_vit_model.pth\"))\n",
        "model.eval()\n",
        "\n",
        "test_running_corrects = 0\n",
        "with torch.no_grad():\n",
        "    for inputs, labels in test_loader:\n",
        "        inputs, labels = inputs.to(device), labels.to(device)\n",
        "        outputs = model(inputs)\n",
        "        _, preds = torch.max(outputs, 1)\n",
        "        test_running_corrects += torch.sum(preds == labels.data)\n",
        "\n",
        "test_acc = test_running_corrects.double() / test_size\n",
        "print(f\"\\nTest Accuracy: {test_acc:.4f}\")\n",
        "\n",
        "plt.figure(figsize=(12, 5))\n",
        "plt.subplot(1, 2, 1)\n",
        "plt.plot(train_losses, label=\"Train Loss\")\n",
        "plt.plot(val_losses, label=\"Val Loss\")\n",
        "plt.xlabel(\"Epoch\")\n",
        "plt.ylabel(\"Loss\")\n",
        "plt.legend()\n",
        "plt.subplot(1, 2, 2)\n",
        "plt.plot(train_accs, label=\"Train Acc\")\n",
        "plt.plot(val_accs, label=\"Val Acc\")\n",
        "plt.xlabel(\"Epoch\")\n",
        "plt.ylabel(\"Accuracy\")\n",
        "plt.legend()\n",
        "plt.show()"
      ]
    },
    {
      "cell_type": "markdown",
      "metadata": {
        "id": "8Ufgy9O453Dy"
      },
      "source": [
        "We fine-tuned a pretrained ViT (`vit_b_16`) model on the Cats vs Dogs dataset using 70/15/15 train/val/test split. We used standard augmentation, batch size of 32, and trained for 10 epochs. The best model (selected by highest validation accuracy) achieved a final test accuracy of approximately **(e.g., 0.9040 / 90.4%)**, showing strong performance for binary classification.\n"
      ]
    },
    {
      "cell_type": "code",
      "execution_count": null,
      "metadata": {
        "colab": {
          "base_uri": "https://localhost:8080/"
        },
        "id": "AiRaYH_iFRGF",
        "outputId": "d8865f23-4f89-4fd7-d196-f9cab4a6014c"
      },
      "outputs": [
        {
          "name": "stdout",
          "output_type": "stream",
          "text": [
            "Using sample image: /content/drive/MyDrive/DL_A2_Datasets/Bonus/PetImages/Dog/9162.jpg\n",
            "Predicted Label for sample image: Dog\n"
          ]
        }
      ],
      "source": [
        "\n",
        "import os\n",
        "from PIL import Image, UnidentifiedImageError\n",
        "\n",
        "def predict_image(image_path, model, transform, class_names):\n",
        "    \"\"\"\n",
        "    Loads an image from disk, applies the necessary transformations,\n",
        "    and returns the predicted class label.\n",
        "    \"\"\"\n",
        "    model.eval()\n",
        "    image = Image.open(image_path).convert('RGB')\n",
        "    image_tensor = transform(image).unsqueeze(0).to(device)\n",
        "    with torch.no_grad():\n",
        "        outputs = model(image_tensor)\n",
        "        _, pred = torch.max(outputs, 1)\n",
        "    predicted_class = class_names[pred.item()]\n",
        "    return predicted_class\n",
        "\n",
        "def get_first_valid_image(folder):\n",
        "    \"\"\"\n",
        "    Scans a folder recursively and returns the path to the first valid image.\n",
        "    \"\"\"\n",
        "    for root, _, files in os.walk(folder):\n",
        "        for file in files:\n",
        "            file_path = os.path.join(root, file)\n",
        "            try:\n",
        "                img = Image.open(file_path)\n",
        "                img.verify()\n",
        "                return file_path\n",
        "            except (UnidentifiedImageError, OSError):\n",
        "                continue\n",
        "    return None\n",
        "\n",
        "\n",
        "sample_image_path = get_first_valid_image(dataset_path)\n",
        "print(f\"Using sample image: {sample_image_path}\")\n",
        "\n",
        "# Predict label\n",
        "if sample_image_path:\n",
        "    predicted_label = predict_image(sample_image_path, model, transform, class_names)\n",
        "    print(f\"Predicted Label for sample image: {predicted_label}\")\n",
        "else:\n",
        "    print(\"No valid image found in the dataset.\")\n"
      ]
    },
    {
      "cell_type": "markdown",
      "metadata": {
        "id": "CmOikkolP4D7"
      },
      "source": [
        "### Deployed ViT App (Bonus Task)\n",
        "Click below to try our live Vision Transformer app for Cat vs Dog classification:\n",
        "\n",
        "[https://vit-cat-dog-classifier-sv94-sarojavu.streamlit.app/](https://vit-cat-dog-classifier-sv94-sarojavu.streamlit.app/)\n"
      ]
    },
    {
      "cell_type": "markdown",
      "metadata": {
        "id": "LklJxoiM6A_K"
      },
      "source": [
        "**Shared UBbox Video Link:**\n",
        "\n",
        "https://buffalo.box.com/s/rwobq60pzwo4btcvapeueihl7xlnamw4"
      ]
    },
    {
      "cell_type": "markdown",
      "metadata": {
        "id": "myLV9ji36C1e"
      },
      "source": [
        "6. References. Include details on all the resources used to complete this part.\n",
        "\n",
        "- PyTorch Vision Transformers: https://pytorch.org/vision/stable/models/generated/torchvision.models.vit_b_16.html\n",
        "- Cats vs Dogs Dataset: Microsoft Research Pet Dataset\n",
        "- Image preprocessing: torchvision.transforms\n",
        "- ViT paper: https://arxiv.org/abs/2010.11929\n",
        "- Deployment: Streamlit (https://streamlit.io/)\n"
      ]
    }
  ],
  "metadata": {
    "accelerator": "GPU",
    "colab": {
      "gpuType": "T4",
      "provenance": []
    },
    "kernelspec": {
      "display_name": "Python 3",
      "name": "python3"
    },
    "language_info": {
      "name": "python"
    }
  },
  "nbformat": 4,
  "nbformat_minor": 0
}
